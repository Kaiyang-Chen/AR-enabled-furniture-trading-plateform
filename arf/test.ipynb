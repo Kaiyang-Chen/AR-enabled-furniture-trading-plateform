{
 "cells": [
  {
   "cell_type": "code",
   "execution_count": 1,
   "metadata": {},
   "outputs": [
    {
     "name": "stdout",
     "output_type": "stream",
     "text": [
      "successful\n"
     ]
    }
   ],
   "source": [
    "import requests\n",
    "import json\n",
    "user = {\"username\":\"skeleton\",\"password\":\"12A4@dsvfdb@3243\",\"email\":\"12w@qq.com\",\"gender\":\"male\",\"phone\":\"12345678890\",\"address\":\"wdefrtytthgerf\"}\n",
    "user = json.dumps(user)\n",
    "response = requests.post(\"http://127.0.0.1:8000/register/\",data=user)\n",
    "print(response.text)"
   ]
  },
  {
   "cell_type": "code",
   "execution_count": 2,
   "metadata": {},
   "outputs": [
    {
     "name": "stdout",
     "output_type": "stream",
     "text": [
      "successful\n"
     ]
    }
   ],
   "source": [
    "user = {\"username\":\"skeleton0\",\"password\":\"12A4@dsvfdb\"}\n",
    "user = json.dumps(user)\n",
    "response = requests.post(\"http://127.0.0.1:8000/login/\",data=user)\n",
    "print(response.text)\n",
    "cookies = response.cookies"
   ]
  },
  {
   "cell_type": "code",
   "execution_count": 11,
   "metadata": {},
   "outputs": [
    {
     "name": "stdout",
     "output_type": "stream",
     "text": [
      "failed: username exists\n"
     ]
    }
   ],
   "source": [
    "user = {\"username\":\"skeleton0\",\"password\":\"12A4@dsvfdb\",\"email\":\"122w@qq.com\",\"gender\":\"female\",\"phone\":\"123458890\",\"address\":\"wdefrtytgerf\"}\n",
    "user = json.dumps(user)\n",
    "response = requests.post(\"http://127.0.0.1:8000/update/\",data=user,cookies=cookies)\n",
    "print(response.text)"
   ]
  },
  {
   "cell_type": "code",
   "execution_count": 15,
   "metadata": {},
   "outputs": [
    {
     "name": "stdout",
     "output_type": "stream",
     "text": [
      "{\"username\": \"skeleton0\", \"email\": \"122w@qq.com\", \"gender\": \"female\", \"phone\": 123458890, \"address\": \"wdefrtytgerf\"}\n"
     ]
    }
   ],
   "source": [
    "user = {\"username\":\"\",\"email\":\"\",\"gender\":\"\",\"phone\":\"\",\"address\":\"\"}\n",
    "user = json.dumps(user)\n",
    "response = requests.get(\"http://127.0.0.1:8000/check/\",data=user,cookies=cookies)\n",
    "print(response.text)"
   ]
  },
  {
   "cell_type": "code",
   "execution_count": 16,
   "metadata": {},
   "outputs": [
    {
     "name": "stdout",
     "output_type": "stream",
     "text": [
      "{\"username\": \"test8\", \"email\": \"\", \"gender\": \"unknown\", \"phone\": \"unknown\", \"address\": \"unknown\"}\n"
     ]
    }
   ],
   "source": [
    "user = {\"username\":\"test8\",\"email\":\"\",\"gender\":\"\",\"phone\":\"\",\"address\":\"\"}\n",
    "user = json.dumps(user)\n",
    "response = requests.get(\"http://127.0.0.1:8000/check_other/\",data=user,cookies=cookies)\n",
    "print(response.text)"
   ]
  },
  {
   "cell_type": "code",
   "execution_count": 18,
   "metadata": {},
   "outputs": [
    {
     "name": "stdout",
     "output_type": "stream",
     "text": [
      "{\"UID\": \"118cbc32-fc69-11ec-a932-005056c00008\"}\n"
     ]
    }
   ],
   "source": [
    "user = {\"name\":\"hot sofa\", \"primary_class\":\"living room\",\"secondary_class\":\"sofa\",\"description\":\"this is a sofa\",\"color_style\":\"blue\",\"price\":\"300\"}\n",
    "user = json.dumps(user)\n",
    "response = requests.post(\"http://127.0.0.1:8000/post_product/\",data=user,cookies=cookies)\n",
    "print(response.text)"
   ]
  },
  {
   "cell_type": "code",
   "execution_count": 19,
   "metadata": {},
   "outputs": [
    {
     "name": "stdout",
     "output_type": "stream",
     "text": [
      "{\"name\": \"hot sofa\", \"description\": \"this is a sofa\", \"price\": \"300.0\"}\n"
     ]
    }
   ],
   "source": [
    "user = {\"UID\": \"118cbc32-fc69-11ec-a932-005056c00008\"}\n",
    "user = json.dumps(user)\n",
    "response = requests.get(\"http://127.0.0.1:8000/fetch_product_brief/\",data=user,cookies=cookies)\n",
    "print(response.text)"
   ]
  },
  {
   "cell_type": "code",
   "execution_count": 6,
   "metadata": {},
   "outputs": [
    {
     "name": "stdout",
     "output_type": "stream",
     "text": [
      "{\"UID\": \"118cbc32-fc69-11ec-a932-005056c00008\", \"name\": \"code sofa\", \"description\": \"this is a sofa 2\", \"owner\": \"skeleton0\", \"primary_class\": \"kitchen\", \"secondary_class\": \"sofa\", \"color_style\": \"red\", \"price\": \"200.0\", \"sold_state\": \"False\", \"title\": \"http://127.0.0.1:8000/static/skeleton0/code%20sofa/picture/title.jpg\"}\n"
     ]
    }
   ],
   "source": [
    "user = {\"UID\": \"118cbc32-fc69-11ec-a932-005056c00008\"}\n",
    "user = json.dumps(user)\n",
    "response = requests.get(\"http://127.0.0.1:8000/fetch_product_detailed/\",data=user,cookies=cookies)\n",
    "print(response.text)"
   ]
  },
  {
   "cell_type": "code",
   "execution_count": 5,
   "metadata": {},
   "outputs": [
    {
     "name": "stdout",
     "output_type": "stream",
     "text": [
      "successful\n"
     ]
    }
   ],
   "source": [
    "files = {\"image\":open(\"23.jpg\",\"rb\"),\"UID\": \"118cbc32-fc69-11ec-a932-005056c00008\",\"picture\":\"title\"}\n",
    "response = requests.post(\"http://127.0.0.1:8000/post_picture/\",cookies=cookies,files=files)\n",
    "print(response.text)"
   ]
  },
  {
   "cell_type": "code",
   "execution_count": 4,
   "metadata": {},
   "outputs": [
    {
     "name": "stdout",
     "output_type": "stream",
     "text": [
      "{\"0\": \"118cbc32-fc69-11ec-a932-005056c00008\"}\n"
     ]
    }
   ],
   "source": [
    "response = requests.get(\"http://127.0.0.1:8000/fetch_home_products/\",cookies=cookies)\n",
    "print(response.text)"
   ]
  },
  {
   "cell_type": "code",
   "execution_count": 57,
   "metadata": {},
   "outputs": [
    {
     "name": "stdout",
     "output_type": "stream",
     "text": [
      "{}\n"
     ]
    }
   ],
   "source": [
    "user = {\"keywords\":\"what\"}\n",
    "user = json.dumps(user)\n",
    "response = requests.get(\"http://127.0.0.1:8000/fetch_searched_products/\",cookies=cookies,data=user)\n",
    "print(response.text)"
   ]
  },
  {
   "cell_type": "code",
   "execution_count": 59,
   "metadata": {},
   "outputs": [
    {
     "name": "stdout",
     "output_type": "stream",
     "text": [
      "successful\n"
     ]
    }
   ],
   "source": [
    "user = {\"UID\": \"118cbc32-fc69-11ec-a932-005056c00008\",\"picture\":\"title\"}\n",
    "user = json.dumps(user)\n",
    "response = requests.post(\"http://127.0.0.1:8000/delete_picture/\",cookies=cookies,data=user)\n",
    "print(response.text)"
   ]
  },
  {
   "cell_type": "code",
   "execution_count": 61,
   "metadata": {},
   "outputs": [
    {
     "name": "stdout",
     "output_type": "stream",
     "text": [
      "successful\n"
     ]
    }
   ],
   "source": [
    "user = {\"UID\": \"118cbc32-fc69-11ec-a932-005056c00008\", \"name\":\"code sofa\", \"primary_class\":\"kitchen\",\"secondary_class\":\"sofa\",\"description\":\"this is a sofa 2\",\"color_style\":\"red\",\"price\":\"200\"}\n",
    "user = json.dumps(user)\n",
    "response = requests.post(\"http://127.0.0.1:8000/update_product/\",data=user,cookies=cookies)\n",
    "print(response.text)"
   ]
  }
 ],
 "metadata": {
  "kernelspec": {
   "display_name": "Python 3.8.1 ('base')",
   "language": "python",
   "name": "python3"
  },
  "language_info": {
   "codemirror_mode": {
    "name": "ipython",
    "version": 3
   },
   "file_extension": ".py",
   "mimetype": "text/x-python",
   "name": "python",
   "nbconvert_exporter": "python",
   "pygments_lexer": "ipython3",
   "version": "3.8.1"
  },
  "orig_nbformat": 4,
  "vscode": {
   "interpreter": {
    "hash": "88279d2366fe020547cde40dd65aa0e3aa662a6ec1f3ca12d88834876c85e1a6"
   }
  }
 },
 "nbformat": 4,
 "nbformat_minor": 2
}
